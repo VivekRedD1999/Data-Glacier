{
 "cells": [
  {
   "cell_type": "code",
   "execution_count": 211,
   "id": "effc68af",
   "metadata": {},
   "outputs": [],
   "source": [
    "import pandas as pd\n",
    "import numpy as np\n",
    "import seaborn as sns\n",
    "import scipy\n",
    "import statistics\n",
    "import matplotlib.pyplot as plt"
   ]
  },
  {
   "cell_type": "code",
   "execution_count": 212,
   "id": "f244ead4",
   "metadata": {},
   "outputs": [],
   "source": [
    "Cab_Data = pd.read_csv(\"Cab_Data.csv\")\n",
    "City = pd.read_csv(\"City.csv\")\n",
    "Customer_ID = pd.read_csv(\"Customer_ID.csv\")\n",
    "Transaction_ID = pd.read_csv(\"Transaction_ID.csv\")"
   ]
  },
  {
   "cell_type": "markdown",
   "id": "07f95cbf",
   "metadata": {},
   "source": [
    "# Data Cleaning for Cab Data"
   ]
  },
  {
   "cell_type": "code",
   "execution_count": 213,
   "id": "2d261f6d",
   "metadata": {},
   "outputs": [
    {
     "data": {
      "text/plain": [
       "Transaction ID    0\n",
       "Date of Travel    0\n",
       "Company           0\n",
       "City              0\n",
       "KM Travelled      0\n",
       "Price Charged     0\n",
       "Cost of Trip      0\n",
       "dtype: int64"
      ]
     },
     "execution_count": 213,
     "metadata": {},
     "output_type": "execute_result"
    }
   ],
   "source": [
    "Cab_Data.isna().sum()"
   ]
  },
  {
   "cell_type": "code",
   "execution_count": 120,
   "id": "f1724583",
   "metadata": {},
   "outputs": [
    {
     "data": {
      "text/plain": [
       "<AxesSubplot:xlabel='Price Charged'>"
      ]
     },
     "execution_count": 120,
     "metadata": {},
     "output_type": "execute_result"
    },
    {
     "data": {
      "image/png": "[encoded data removed]",
      "text/plain": [
       "<Figure size 432x288 with 1 Axes>"
      ]
     },
     "metadata": {
      "needs_background": "light"
     },
     "output_type": "display_data"
    }
   ],
   "source": [
    "sns.boxplot(x = Cab_Data['Price Charged'])"
   ]
  },
  {
   "cell_type": "code",
   "execution_count": 214,
   "id": "5f55de3c",
   "metadata": {},
   "outputs": [
    {
     "name": "stdout",
     "output_type": "stream",
     "text": [
      "Transaction ID       0\n",
      "Date of Travel       0\n",
      "KM Travelled         0\n",
      "Price Charged     3195\n",
      "Cost of Trip         0\n",
      "dtype: int64\n"
     ]
    }
   ],
   "source": [
    "z_scores = np.abs(scipy.stats.zscore(Cab_Data.select_dtypes(include = 'number')))\n",
    "outliers = z_scores[z_scores > 3 ]\n",
    "print(outliers.notnull().sum())"
   ]
  },
  {
   "cell_type": "code",
   "execution_count": 215,
   "id": "b60739dc",
   "metadata": {},
   "outputs": [],
   "source": [
    "ind = outliers['Price Charged'].loc[outliers['Price Charged']>3].index"
   ]
  },
  {
   "cell_type": "code",
   "execution_count": 216,
   "id": "183cefc1",
   "metadata": {},
   "outputs": [],
   "source": [
    "Out = Cab_Data.loc[ind]"
   ]
  },
  {
   "cell_type": "code",
   "execution_count": 217,
   "id": "3e5775d9",
   "metadata": {},
   "outputs": [],
   "source": [
    "Removed_Transaction_ID = Out['Transaction ID']"
   ]
  },
  {
   "cell_type": "code",
   "execution_count": 218,
   "id": "b0d6c57b",
   "metadata": {},
   "outputs": [
    {
     "data": {
      "text/plain": [
       "137.2531984345784"
      ]
     },
     "execution_count": 218,
     "metadata": {},
     "output_type": "execute_result"
    }
   ],
   "source": [
    "statistics.mean(Cab_Data['Price Charged']-Cab_Data['Cost of Trip'])"
   ]
  },
  {
   "cell_type": "markdown",
   "id": "0d0e1872",
   "metadata": {},
   "source": [
    "The average profit is very high in out liers so it is better to remove all the records."
   ]
  },
  {
   "cell_type": "code",
   "execution_count": 219,
   "id": "64e52a6e",
   "metadata": {},
   "outputs": [
    {
     "data": {
      "text/plain": [
       "832.0077110485133"
      ]
     },
     "execution_count": 219,
     "metadata": {},
     "output_type": "execute_result"
    }
   ],
   "source": [
    "statistics.mean(Cab_Data['Price Charged'].loc[ind]-Cab_Data['Cost of Trip'].loc[ind])"
   ]
  },
  {
   "cell_type": "code",
   "execution_count": 220,
   "id": "9129bea8",
   "metadata": {},
   "outputs": [],
   "source": [
    "Cab_Data.drop(ind, axis=0, inplace = True)"
   ]
  },
  {
   "cell_type": "code",
   "execution_count": 221,
   "id": "96c18132",
   "metadata": {},
   "outputs": [
    {
     "data": {
      "text/html": [
       "<div>\n",
       "<style scoped>\n",
       "    .dataframe tbody tr th:only-of-type {\n",
       "        vertical-align: middle;\n",
       "    }\n",
       "\n",
       "    .dataframe tbody tr th {\n",
       "        vertical-align: top;\n",
       "    }\n",
       "\n",
       "    .dataframe thead th {\n",
       "        text-align: right;\n",
       "    }\n",
       "</style>\n",
       "<table border=\"1\" class=\"dataframe\">\n",
       "  <thead>\n",
       "    <tr style=\"text-align: right;\">\n",
       "      <th></th>\n",
       "      <th>Transaction ID</th>\n",
       "      <th>Date of Travel</th>\n",
       "      <th>Company</th>\n",
       "      <th>City</th>\n",
       "      <th>KM Travelled</th>\n",
       "      <th>Price Charged</th>\n",
       "      <th>Cost of Trip</th>\n",
       "    </tr>\n",
       "  </thead>\n",
       "  <tbody>\n",
       "    <tr>\n",
       "      <th>0</th>\n",
       "      <td>10000011</td>\n",
       "      <td>42377</td>\n",
       "      <td>Pink Cab</td>\n",
       "      <td>ATLANTA GA</td>\n",
       "      <td>30.45</td>\n",
       "      <td>370.95</td>\n",
       "      <td>313.6350</td>\n",
       "    </tr>\n",
       "    <tr>\n",
       "      <th>1</th>\n",
       "      <td>10000012</td>\n",
       "      <td>42375</td>\n",
       "      <td>Pink Cab</td>\n",
       "      <td>ATLANTA GA</td>\n",
       "      <td>28.62</td>\n",
       "      <td>358.52</td>\n",
       "      <td>334.8540</td>\n",
       "    </tr>\n",
       "    <tr>\n",
       "      <th>2</th>\n",
       "      <td>10000013</td>\n",
       "      <td>42371</td>\n",
       "      <td>Pink Cab</td>\n",
       "      <td>ATLANTA GA</td>\n",
       "      <td>9.04</td>\n",
       "      <td>125.20</td>\n",
       "      <td>97.6320</td>\n",
       "    </tr>\n",
       "    <tr>\n",
       "      <th>3</th>\n",
       "      <td>10000014</td>\n",
       "      <td>42376</td>\n",
       "      <td>Pink Cab</td>\n",
       "      <td>ATLANTA GA</td>\n",
       "      <td>33.17</td>\n",
       "      <td>377.40</td>\n",
       "      <td>351.6020</td>\n",
       "    </tr>\n",
       "    <tr>\n",
       "      <th>4</th>\n",
       "      <td>10000015</td>\n",
       "      <td>42372</td>\n",
       "      <td>Pink Cab</td>\n",
       "      <td>ATLANTA GA</td>\n",
       "      <td>8.73</td>\n",
       "      <td>114.62</td>\n",
       "      <td>97.7760</td>\n",
       "    </tr>\n",
       "    <tr>\n",
       "      <th>...</th>\n",
       "      <td>...</td>\n",
       "      <td>...</td>\n",
       "      <td>...</td>\n",
       "      <td>...</td>\n",
       "      <td>...</td>\n",
       "      <td>...</td>\n",
       "      <td>...</td>\n",
       "    </tr>\n",
       "    <tr>\n",
       "      <th>359387</th>\n",
       "      <td>10440101</td>\n",
       "      <td>43108</td>\n",
       "      <td>Yellow Cab</td>\n",
       "      <td>WASHINGTON DC</td>\n",
       "      <td>4.80</td>\n",
       "      <td>69.24</td>\n",
       "      <td>63.3600</td>\n",
       "    </tr>\n",
       "    <tr>\n",
       "      <th>359388</th>\n",
       "      <td>10440104</td>\n",
       "      <td>43104</td>\n",
       "      <td>Yellow Cab</td>\n",
       "      <td>WASHINGTON DC</td>\n",
       "      <td>8.40</td>\n",
       "      <td>113.75</td>\n",
       "      <td>106.8480</td>\n",
       "    </tr>\n",
       "    <tr>\n",
       "      <th>359389</th>\n",
       "      <td>10440105</td>\n",
       "      <td>43105</td>\n",
       "      <td>Yellow Cab</td>\n",
       "      <td>WASHINGTON DC</td>\n",
       "      <td>27.75</td>\n",
       "      <td>437.07</td>\n",
       "      <td>349.6500</td>\n",
       "    </tr>\n",
       "    <tr>\n",
       "      <th>359390</th>\n",
       "      <td>10440106</td>\n",
       "      <td>43105</td>\n",
       "      <td>Yellow Cab</td>\n",
       "      <td>WASHINGTON DC</td>\n",
       "      <td>8.80</td>\n",
       "      <td>146.19</td>\n",
       "      <td>114.0480</td>\n",
       "    </tr>\n",
       "    <tr>\n",
       "      <th>359391</th>\n",
       "      <td>10440107</td>\n",
       "      <td>43102</td>\n",
       "      <td>Yellow Cab</td>\n",
       "      <td>WASHINGTON DC</td>\n",
       "      <td>12.76</td>\n",
       "      <td>191.58</td>\n",
       "      <td>177.6192</td>\n",
       "    </tr>\n",
       "  </tbody>\n",
       "</table>\n",
       "<p>356197 rows × 7 columns</p>\n",
       "</div>"
      ],
      "text/plain": [
       "        Transaction ID  Date of Travel     Company           City  \\\n",
       "0             10000011           42377    Pink Cab     ATLANTA GA   \n",
       "1             10000012           42375    Pink Cab     ATLANTA GA   \n",
       "2             10000013           42371    Pink Cab     ATLANTA GA   \n",
       "3             10000014           42376    Pink Cab     ATLANTA GA   \n",
       "4             10000015           42372    Pink Cab     ATLANTA GA   \n",
       "...                ...             ...         ...            ...   \n",
       "359387        10440101           43108  Yellow Cab  WASHINGTON DC   \n",
       "359388        10440104           43104  Yellow Cab  WASHINGTON DC   \n",
       "359389        10440105           43105  Yellow Cab  WASHINGTON DC   \n",
       "359390        10440106           43105  Yellow Cab  WASHINGTON DC   \n",
       "359391        10440107           43102  Yellow Cab  WASHINGTON DC   \n",
       "\n",
       "        KM Travelled  Price Charged  Cost of Trip  \n",
       "0              30.45         370.95      313.6350  \n",
       "1              28.62         358.52      334.8540  \n",
       "2               9.04         125.20       97.6320  \n",
       "3              33.17         377.40      351.6020  \n",
       "4               8.73         114.62       97.7760  \n",
       "...              ...            ...           ...  \n",
       "359387          4.80          69.24       63.3600  \n",
       "359388          8.40         113.75      106.8480  \n",
       "359389         27.75         437.07      349.6500  \n",
       "359390          8.80         146.19      114.0480  \n",
       "359391         12.76         191.58      177.6192  \n",
       "\n",
       "[356197 rows x 7 columns]"
      ]
     },
     "execution_count": 221,
     "metadata": {},
     "output_type": "execute_result"
    }
   ],
   "source": [
    "Cab_Data"
   ]
  },
  {
   "cell_type": "code",
   "execution_count": 129,
   "id": "009fff52",
   "metadata": {},
   "outputs": [
    {
     "data": {
      "text/plain": [
       "<AxesSubplot:xlabel='Price Charged'>"
      ]
     },
     "execution_count": 129,
     "metadata": {},
     "output_type": "execute_result"
    },
    {
     "data": {
      "image/png": "[encoded data removed]",
      "text/plain": [
       "<Figure size 432x288 with 1 Axes>"
      ]
     },
     "metadata": {
      "needs_background": "light"
     },
     "output_type": "display_data"
    }
   ],
   "source": [
    "sns.boxplot(x = Cab_Data['Price Charged'])"
   ]
  },
  {
   "cell_type": "markdown",
   "id": "bc01fa35",
   "metadata": {},
   "source": [
    "# Data Cleaning for Customer ID"
   ]
  },
  {
   "cell_type": "code",
   "execution_count": 222,
   "id": "66570639",
   "metadata": {},
   "outputs": [
    {
     "data": {
      "text/plain": [
       "Customer ID           0\n",
       "Gender                0\n",
       "Age                   0\n",
       "Income (USD/Month)    0\n",
       "dtype: int64"
      ]
     },
     "execution_count": 222,
     "metadata": {},
     "output_type": "execute_result"
    }
   ],
   "source": [
    "Customer_ID.isna().sum()"
   ]
  },
  {
   "cell_type": "code",
   "execution_count": 223,
   "id": "35b29942",
   "metadata": {},
   "outputs": [
    {
     "data": {
      "text/plain": [
       "array(['Male', 'Female'], dtype=object)"
      ]
     },
     "execution_count": 223,
     "metadata": {},
     "output_type": "execute_result"
    }
   ],
   "source": [
    "Customer_ID['Gender'].unique()"
   ]
  },
  {
   "cell_type": "code",
   "execution_count": 135,
   "id": "cab19dbf",
   "metadata": {},
   "outputs": [
    {
     "data": {
      "text/plain": [
       "<AxesSubplot:xlabel='Income (USD/Month)'>"
      ]
     },
     "execution_count": 135,
     "metadata": {},
     "output_type": "execute_result"
    },
    {
     "data": {
      "image/png": "[encoded data removed]",
      "text/plain": [
       "<Figure size 432x288 with 1 Axes>"
      ]
     },
     "metadata": {
      "needs_background": "light"
     },
     "output_type": "display_data"
    }
   ],
   "source": [
    "sns.boxplot(x = Customer_ID['Income (USD/Month)'])"
   ]
  },
  {
   "cell_type": "code",
   "execution_count": 136,
   "id": "31ac22c4",
   "metadata": {},
   "outputs": [
    {
     "data": {
      "text/plain": [
       "<AxesSubplot:xlabel='Age'>"
      ]
     },
     "execution_count": 136,
     "metadata": {},
     "output_type": "execute_result"
    },
    {
     "data": {
      "image/png": "[encoded data removed]",
      "text/plain": [
       "<Figure size 432x288 with 1 Axes>"
      ]
     },
     "metadata": {
      "needs_background": "light"
     },
     "output_type": "display_data"
    }
   ],
   "source": [
    "sns.boxplot(x = Customer_ID['Age'])"
   ]
  },
  {
   "cell_type": "markdown",
   "id": "5e10e317",
   "metadata": {},
   "source": [
    "# Data Cleaning for Transaction ID"
   ]
  },
  {
   "cell_type": "code",
   "execution_count": 224,
   "id": "3fd9d959",
   "metadata": {},
   "outputs": [
    {
     "data": {
      "text/html": [
       "<div>\n",
       "<style scoped>\n",
       "    .dataframe tbody tr th:only-of-type {\n",
       "        vertical-align: middle;\n",
       "    }\n",
       "\n",
       "    .dataframe tbody tr th {\n",
       "        vertical-align: top;\n",
       "    }\n",
       "\n",
       "    .dataframe thead th {\n",
       "        text-align: right;\n",
       "    }\n",
       "</style>\n",
       "<table border=\"1\" class=\"dataframe\">\n",
       "  <thead>\n",
       "    <tr style=\"text-align: right;\">\n",
       "      <th></th>\n",
       "      <th>Transaction ID</th>\n",
       "      <th>Customer ID</th>\n",
       "      <th>Payment_Mode</th>\n",
       "    </tr>\n",
       "  </thead>\n",
       "  <tbody>\n",
       "    <tr>\n",
       "      <th>0</th>\n",
       "      <td>10000011</td>\n",
       "      <td>29290</td>\n",
       "      <td>Card</td>\n",
       "    </tr>\n",
       "    <tr>\n",
       "      <th>1</th>\n",
       "      <td>10000012</td>\n",
       "      <td>27703</td>\n",
       "      <td>Card</td>\n",
       "    </tr>\n",
       "    <tr>\n",
       "      <th>2</th>\n",
       "      <td>10000013</td>\n",
       "      <td>28712</td>\n",
       "      <td>Cash</td>\n",
       "    </tr>\n",
       "    <tr>\n",
       "      <th>3</th>\n",
       "      <td>10000014</td>\n",
       "      <td>28020</td>\n",
       "      <td>Cash</td>\n",
       "    </tr>\n",
       "    <tr>\n",
       "      <th>4</th>\n",
       "      <td>10000015</td>\n",
       "      <td>27182</td>\n",
       "      <td>Card</td>\n",
       "    </tr>\n",
       "    <tr>\n",
       "      <th>...</th>\n",
       "      <td>...</td>\n",
       "      <td>...</td>\n",
       "      <td>...</td>\n",
       "    </tr>\n",
       "    <tr>\n",
       "      <th>440093</th>\n",
       "      <td>10440104</td>\n",
       "      <td>53286</td>\n",
       "      <td>Cash</td>\n",
       "    </tr>\n",
       "    <tr>\n",
       "      <th>440094</th>\n",
       "      <td>10440105</td>\n",
       "      <td>52265</td>\n",
       "      <td>Cash</td>\n",
       "    </tr>\n",
       "    <tr>\n",
       "      <th>440095</th>\n",
       "      <td>10440106</td>\n",
       "      <td>52175</td>\n",
       "      <td>Card</td>\n",
       "    </tr>\n",
       "    <tr>\n",
       "      <th>440096</th>\n",
       "      <td>10440107</td>\n",
       "      <td>52917</td>\n",
       "      <td>Card</td>\n",
       "    </tr>\n",
       "    <tr>\n",
       "      <th>440097</th>\n",
       "      <td>10440108</td>\n",
       "      <td>51587</td>\n",
       "      <td>Card</td>\n",
       "    </tr>\n",
       "  </tbody>\n",
       "</table>\n",
       "<p>440098 rows × 3 columns</p>\n",
       "</div>"
      ],
      "text/plain": [
       "        Transaction ID  Customer ID Payment_Mode\n",
       "0             10000011        29290         Card\n",
       "1             10000012        27703         Card\n",
       "2             10000013        28712         Cash\n",
       "3             10000014        28020         Cash\n",
       "4             10000015        27182         Card\n",
       "...                ...          ...          ...\n",
       "440093        10440104        53286         Cash\n",
       "440094        10440105        52265         Cash\n",
       "440095        10440106        52175         Card\n",
       "440096        10440107        52917         Card\n",
       "440097        10440108        51587         Card\n",
       "\n",
       "[440098 rows x 3 columns]"
      ]
     },
     "execution_count": 224,
     "metadata": {},
     "output_type": "execute_result"
    }
   ],
   "source": [
    "Transaction_ID"
   ]
  },
  {
   "cell_type": "code",
   "execution_count": 225,
   "id": "a972f404",
   "metadata": {},
   "outputs": [],
   "source": [
    "TR_OU_IN = Transaction_ID[Transaction_ID[\"Transaction ID\"].isin(list(Removed_Transaction_ID))].index"
   ]
  },
  {
   "cell_type": "code",
   "execution_count": 226,
   "id": "bbbe3e55",
   "metadata": {},
   "outputs": [],
   "source": [
    "Transaction_ID.drop(TR_OU_IN, axis=0, inplace=True)"
   ]
  },
  {
   "cell_type": "code",
   "execution_count": 227,
   "id": "5749c6d3",
   "metadata": {},
   "outputs": [
    {
     "data": {
      "text/html": [
       "<div>\n",
       "<style scoped>\n",
       "    .dataframe tbody tr th:only-of-type {\n",
       "        vertical-align: middle;\n",
       "    }\n",
       "\n",
       "    .dataframe tbody tr th {\n",
       "        vertical-align: top;\n",
       "    }\n",
       "\n",
       "    .dataframe thead th {\n",
       "        text-align: right;\n",
       "    }\n",
       "</style>\n",
       "<table border=\"1\" class=\"dataframe\">\n",
       "  <thead>\n",
       "    <tr style=\"text-align: right;\">\n",
       "      <th></th>\n",
       "      <th>Transaction ID</th>\n",
       "      <th>Customer ID</th>\n",
       "      <th>Payment_Mode</th>\n",
       "    </tr>\n",
       "  </thead>\n",
       "  <tbody>\n",
       "    <tr>\n",
       "      <th>0</th>\n",
       "      <td>10000011</td>\n",
       "      <td>29290</td>\n",
       "      <td>Card</td>\n",
       "    </tr>\n",
       "    <tr>\n",
       "      <th>1</th>\n",
       "      <td>10000012</td>\n",
       "      <td>27703</td>\n",
       "      <td>Card</td>\n",
       "    </tr>\n",
       "    <tr>\n",
       "      <th>2</th>\n",
       "      <td>10000013</td>\n",
       "      <td>28712</td>\n",
       "      <td>Cash</td>\n",
       "    </tr>\n",
       "    <tr>\n",
       "      <th>3</th>\n",
       "      <td>10000014</td>\n",
       "      <td>28020</td>\n",
       "      <td>Cash</td>\n",
       "    </tr>\n",
       "    <tr>\n",
       "      <th>4</th>\n",
       "      <td>10000015</td>\n",
       "      <td>27182</td>\n",
       "      <td>Card</td>\n",
       "    </tr>\n",
       "    <tr>\n",
       "      <th>...</th>\n",
       "      <td>...</td>\n",
       "      <td>...</td>\n",
       "      <td>...</td>\n",
       "    </tr>\n",
       "    <tr>\n",
       "      <th>440093</th>\n",
       "      <td>10440104</td>\n",
       "      <td>53286</td>\n",
       "      <td>Cash</td>\n",
       "    </tr>\n",
       "    <tr>\n",
       "      <th>440094</th>\n",
       "      <td>10440105</td>\n",
       "      <td>52265</td>\n",
       "      <td>Cash</td>\n",
       "    </tr>\n",
       "    <tr>\n",
       "      <th>440095</th>\n",
       "      <td>10440106</td>\n",
       "      <td>52175</td>\n",
       "      <td>Card</td>\n",
       "    </tr>\n",
       "    <tr>\n",
       "      <th>440096</th>\n",
       "      <td>10440107</td>\n",
       "      <td>52917</td>\n",
       "      <td>Card</td>\n",
       "    </tr>\n",
       "    <tr>\n",
       "      <th>440097</th>\n",
       "      <td>10440108</td>\n",
       "      <td>51587</td>\n",
       "      <td>Card</td>\n",
       "    </tr>\n",
       "  </tbody>\n",
       "</table>\n",
       "<p>436903 rows × 3 columns</p>\n",
       "</div>"
      ],
      "text/plain": [
       "        Transaction ID  Customer ID Payment_Mode\n",
       "0             10000011        29290         Card\n",
       "1             10000012        27703         Card\n",
       "2             10000013        28712         Cash\n",
       "3             10000014        28020         Cash\n",
       "4             10000015        27182         Card\n",
       "...                ...          ...          ...\n",
       "440093        10440104        53286         Cash\n",
       "440094        10440105        52265         Cash\n",
       "440095        10440106        52175         Card\n",
       "440096        10440107        52917         Card\n",
       "440097        10440108        51587         Card\n",
       "\n",
       "[436903 rows x 3 columns]"
      ]
     },
     "execution_count": 227,
     "metadata": {},
     "output_type": "execute_result"
    }
   ],
   "source": [
    "Transaction_ID"
   ]
  },
  {
   "cell_type": "code",
   "execution_count": 228,
   "id": "e782e021",
   "metadata": {},
   "outputs": [
    {
     "data": {
      "text/plain": [
       "Transaction ID    0\n",
       "Customer ID       0\n",
       "Payment_Mode      0\n",
       "dtype: int64"
      ]
     },
     "execution_count": 228,
     "metadata": {},
     "output_type": "execute_result"
    }
   ],
   "source": [
    "Transaction_ID.isna().sum()"
   ]
  },
  {
   "cell_type": "markdown",
   "id": "630cfa7f",
   "metadata": {},
   "source": [
    "# Creating Master Dataset."
   ]
  },
  {
   "cell_type": "code",
   "execution_count": 229,
   "id": "c3b7b38c",
   "metadata": {},
   "outputs": [],
   "source": [
    "Master_Data = Cab_Data.join(Transaction_ID.set_index('Transaction ID'), on='Transaction ID')"
   ]
  },
  {
   "cell_type": "code",
   "execution_count": 230,
   "id": "b64c1c88",
   "metadata": {
    "scrolled": true
   },
   "outputs": [],
   "source": [
    "Master_Data = Master_Data.join(Customer_ID.set_index('Customer ID'), on = 'Customer ID')"
   ]
  },
  {
   "cell_type": "code",
   "execution_count": 231,
   "id": "159fcfe1",
   "metadata": {},
   "outputs": [
    {
     "data": {
      "text/plain": [
       "Transaction ID        3\n",
       "Date of Travel        3\n",
       "Company               3\n",
       "City                  3\n",
       "KM Travelled          3\n",
       "Price Charged         3\n",
       "Cost of Trip          3\n",
       "Customer ID           3\n",
       "Payment_Mode          3\n",
       "Gender                3\n",
       "Age                   3\n",
       "Income (USD/Month)    3\n",
       "dtype: int64"
      ]
     },
     "execution_count": 231,
     "metadata": {},
     "output_type": "execute_result"
    }
   ],
   "source": [
    "Master_Data[Master_Data['Customer ID'] == 29290].count()"
   ]
  },
  {
   "cell_type": "code",
   "execution_count": 232,
   "id": "162b96be",
   "metadata": {},
   "outputs": [
    {
     "data": {
      "text/html": [
       "<div>\n",
       "<style scoped>\n",
       "    .dataframe tbody tr th:only-of-type {\n",
       "        vertical-align: middle;\n",
       "    }\n",
       "\n",
       "    .dataframe tbody tr th {\n",
       "        vertical-align: top;\n",
       "    }\n",
       "\n",
       "    .dataframe thead th {\n",
       "        text-align: right;\n",
       "    }\n",
       "</style>\n",
       "<table border=\"1\" class=\"dataframe\">\n",
       "  <thead>\n",
       "    <tr style=\"text-align: right;\">\n",
       "      <th></th>\n",
       "      <th>Transaction ID</th>\n",
       "      <th>Date of Travel</th>\n",
       "      <th>Company</th>\n",
       "      <th>KM Travelled</th>\n",
       "      <th>Price Charged</th>\n",
       "      <th>Cost of Trip</th>\n",
       "      <th>Customer ID</th>\n",
       "      <th>Payment_Mode</th>\n",
       "      <th>Gender</th>\n",
       "      <th>Age</th>\n",
       "      <th>Income (USD/Month)</th>\n",
       "    </tr>\n",
       "    <tr>\n",
       "      <th>City</th>\n",
       "      <th></th>\n",
       "      <th></th>\n",
       "      <th></th>\n",
       "      <th></th>\n",
       "      <th></th>\n",
       "      <th></th>\n",
       "      <th></th>\n",
       "      <th></th>\n",
       "      <th></th>\n",
       "      <th></th>\n",
       "      <th></th>\n",
       "    </tr>\n",
       "  </thead>\n",
       "  <tbody>\n",
       "    <tr>\n",
       "      <th>ATLANTA GA</th>\n",
       "      <td>7552</td>\n",
       "      <td>7552</td>\n",
       "      <td>7552</td>\n",
       "      <td>7552</td>\n",
       "      <td>7552</td>\n",
       "      <td>7552</td>\n",
       "      <td>7552</td>\n",
       "      <td>7552</td>\n",
       "      <td>7552</td>\n",
       "      <td>7552</td>\n",
       "      <td>7552</td>\n",
       "    </tr>\n",
       "    <tr>\n",
       "      <th>AUSTIN TX</th>\n",
       "      <td>4891</td>\n",
       "      <td>4891</td>\n",
       "      <td>4891</td>\n",
       "      <td>4891</td>\n",
       "      <td>4891</td>\n",
       "      <td>4891</td>\n",
       "      <td>4891</td>\n",
       "      <td>4891</td>\n",
       "      <td>4891</td>\n",
       "      <td>4891</td>\n",
       "      <td>4891</td>\n",
       "    </tr>\n",
       "    <tr>\n",
       "      <th>BOSTON MA</th>\n",
       "      <td>29692</td>\n",
       "      <td>29692</td>\n",
       "      <td>29692</td>\n",
       "      <td>29692</td>\n",
       "      <td>29692</td>\n",
       "      <td>29692</td>\n",
       "      <td>29692</td>\n",
       "      <td>29692</td>\n",
       "      <td>29692</td>\n",
       "      <td>29692</td>\n",
       "      <td>29692</td>\n",
       "    </tr>\n",
       "    <tr>\n",
       "      <th>CHICAGO IL</th>\n",
       "      <td>56624</td>\n",
       "      <td>56624</td>\n",
       "      <td>56624</td>\n",
       "      <td>56624</td>\n",
       "      <td>56624</td>\n",
       "      <td>56624</td>\n",
       "      <td>56624</td>\n",
       "      <td>56624</td>\n",
       "      <td>56624</td>\n",
       "      <td>56624</td>\n",
       "      <td>56624</td>\n",
       "    </tr>\n",
       "    <tr>\n",
       "      <th>DALLAS TX</th>\n",
       "      <td>6974</td>\n",
       "      <td>6974</td>\n",
       "      <td>6974</td>\n",
       "      <td>6974</td>\n",
       "      <td>6974</td>\n",
       "      <td>6974</td>\n",
       "      <td>6974</td>\n",
       "      <td>6974</td>\n",
       "      <td>6974</td>\n",
       "      <td>6974</td>\n",
       "      <td>6974</td>\n",
       "    </tr>\n",
       "    <tr>\n",
       "      <th>DENVER CO</th>\n",
       "      <td>3823</td>\n",
       "      <td>3823</td>\n",
       "      <td>3823</td>\n",
       "      <td>3823</td>\n",
       "      <td>3823</td>\n",
       "      <td>3823</td>\n",
       "      <td>3823</td>\n",
       "      <td>3823</td>\n",
       "      <td>3823</td>\n",
       "      <td>3823</td>\n",
       "      <td>3823</td>\n",
       "    </tr>\n",
       "    <tr>\n",
       "      <th>LOS ANGELES CA</th>\n",
       "      <td>48007</td>\n",
       "      <td>48007</td>\n",
       "      <td>48007</td>\n",
       "      <td>48007</td>\n",
       "      <td>48007</td>\n",
       "      <td>48007</td>\n",
       "      <td>48007</td>\n",
       "      <td>48007</td>\n",
       "      <td>48007</td>\n",
       "      <td>48007</td>\n",
       "      <td>48007</td>\n",
       "    </tr>\n",
       "    <tr>\n",
       "      <th>MIAMI FL</th>\n",
       "      <td>6443</td>\n",
       "      <td>6443</td>\n",
       "      <td>6443</td>\n",
       "      <td>6443</td>\n",
       "      <td>6443</td>\n",
       "      <td>6443</td>\n",
       "      <td>6443</td>\n",
       "      <td>6443</td>\n",
       "      <td>6443</td>\n",
       "      <td>6443</td>\n",
       "      <td>6443</td>\n",
       "    </tr>\n",
       "    <tr>\n",
       "      <th>NASHVILLE TN</th>\n",
       "      <td>3009</td>\n",
       "      <td>3009</td>\n",
       "      <td>3009</td>\n",
       "      <td>3009</td>\n",
       "      <td>3009</td>\n",
       "      <td>3009</td>\n",
       "      <td>3009</td>\n",
       "      <td>3009</td>\n",
       "      <td>3009</td>\n",
       "      <td>3009</td>\n",
       "      <td>3009</td>\n",
       "    </tr>\n",
       "    <tr>\n",
       "      <th>NEW YORK NY</th>\n",
       "      <td>96846</td>\n",
       "      <td>96846</td>\n",
       "      <td>96846</td>\n",
       "      <td>96846</td>\n",
       "      <td>96846</td>\n",
       "      <td>96846</td>\n",
       "      <td>96846</td>\n",
       "      <td>96846</td>\n",
       "      <td>96846</td>\n",
       "      <td>96846</td>\n",
       "      <td>96846</td>\n",
       "    </tr>\n",
       "    <tr>\n",
       "      <th>ORANGE COUNTY</th>\n",
       "      <td>3970</td>\n",
       "      <td>3970</td>\n",
       "      <td>3970</td>\n",
       "      <td>3970</td>\n",
       "      <td>3970</td>\n",
       "      <td>3970</td>\n",
       "      <td>3970</td>\n",
       "      <td>3970</td>\n",
       "      <td>3970</td>\n",
       "      <td>3970</td>\n",
       "      <td>3970</td>\n",
       "    </tr>\n",
       "    <tr>\n",
       "      <th>PHOENIX AZ</th>\n",
       "      <td>2064</td>\n",
       "      <td>2064</td>\n",
       "      <td>2064</td>\n",
       "      <td>2064</td>\n",
       "      <td>2064</td>\n",
       "      <td>2064</td>\n",
       "      <td>2064</td>\n",
       "      <td>2064</td>\n",
       "      <td>2064</td>\n",
       "      <td>2064</td>\n",
       "      <td>2064</td>\n",
       "    </tr>\n",
       "    <tr>\n",
       "      <th>PITTSBURGH PA</th>\n",
       "      <td>1306</td>\n",
       "      <td>1306</td>\n",
       "      <td>1306</td>\n",
       "      <td>1306</td>\n",
       "      <td>1306</td>\n",
       "      <td>1306</td>\n",
       "      <td>1306</td>\n",
       "      <td>1306</td>\n",
       "      <td>1306</td>\n",
       "      <td>1306</td>\n",
       "      <td>1306</td>\n",
       "    </tr>\n",
       "    <tr>\n",
       "      <th>SACRAMENTO CA</th>\n",
       "      <td>2365</td>\n",
       "      <td>2365</td>\n",
       "      <td>2365</td>\n",
       "      <td>2365</td>\n",
       "      <td>2365</td>\n",
       "      <td>2365</td>\n",
       "      <td>2365</td>\n",
       "      <td>2365</td>\n",
       "      <td>2365</td>\n",
       "      <td>2365</td>\n",
       "      <td>2365</td>\n",
       "    </tr>\n",
       "    <tr>\n",
       "      <th>SAN DIEGO CA</th>\n",
       "      <td>20486</td>\n",
       "      <td>20486</td>\n",
       "      <td>20486</td>\n",
       "      <td>20486</td>\n",
       "      <td>20486</td>\n",
       "      <td>20486</td>\n",
       "      <td>20486</td>\n",
       "      <td>20486</td>\n",
       "      <td>20486</td>\n",
       "      <td>20486</td>\n",
       "      <td>20486</td>\n",
       "    </tr>\n",
       "    <tr>\n",
       "      <th>SEATTLE WA</th>\n",
       "      <td>7994</td>\n",
       "      <td>7994</td>\n",
       "      <td>7994</td>\n",
       "      <td>7994</td>\n",
       "      <td>7994</td>\n",
       "      <td>7994</td>\n",
       "      <td>7994</td>\n",
       "      <td>7994</td>\n",
       "      <td>7994</td>\n",
       "      <td>7994</td>\n",
       "      <td>7994</td>\n",
       "    </tr>\n",
       "    <tr>\n",
       "      <th>SILICON VALLEY</th>\n",
       "      <td>8484</td>\n",
       "      <td>8484</td>\n",
       "      <td>8484</td>\n",
       "      <td>8484</td>\n",
       "      <td>8484</td>\n",
       "      <td>8484</td>\n",
       "      <td>8484</td>\n",
       "      <td>8484</td>\n",
       "      <td>8484</td>\n",
       "      <td>8484</td>\n",
       "      <td>8484</td>\n",
       "    </tr>\n",
       "    <tr>\n",
       "      <th>TUCSON AZ</th>\n",
       "      <td>1930</td>\n",
       "      <td>1930</td>\n",
       "      <td>1930</td>\n",
       "      <td>1930</td>\n",
       "      <td>1930</td>\n",
       "      <td>1930</td>\n",
       "      <td>1930</td>\n",
       "      <td>1930</td>\n",
       "      <td>1930</td>\n",
       "      <td>1930</td>\n",
       "      <td>1930</td>\n",
       "    </tr>\n",
       "    <tr>\n",
       "      <th>WASHINGTON DC</th>\n",
       "      <td>43737</td>\n",
       "      <td>43737</td>\n",
       "      <td>43737</td>\n",
       "      <td>43737</td>\n",
       "      <td>43737</td>\n",
       "      <td>43737</td>\n",
       "      <td>43737</td>\n",
       "      <td>43737</td>\n",
       "      <td>43737</td>\n",
       "      <td>43737</td>\n",
       "      <td>43737</td>\n",
       "    </tr>\n",
       "  </tbody>\n",
       "</table>\n",
       "</div>"
      ],
      "text/plain": [
       "                Transaction ID  Date of Travel  Company  KM Travelled  \\\n",
       "City                                                                    \n",
       "ATLANTA GA                7552            7552     7552          7552   \n",
       "AUSTIN TX                 4891            4891     4891          4891   \n",
       "BOSTON MA                29692           29692    29692         29692   \n",
       "CHICAGO IL               56624           56624    56624         56624   \n",
       "DALLAS TX                 6974            6974     6974          6974   \n",
       "DENVER CO                 3823            3823     3823          3823   \n",
       "LOS ANGELES CA           48007           48007    48007         48007   \n",
       "MIAMI FL                  6443            6443     6443          6443   \n",
       "NASHVILLE TN              3009            3009     3009          3009   \n",
       "NEW YORK NY              96846           96846    96846         96846   \n",
       "ORANGE COUNTY             3970            3970     3970          3970   \n",
       "PHOENIX AZ                2064            2064     2064          2064   \n",
       "PITTSBURGH PA             1306            1306     1306          1306   \n",
       "SACRAMENTO CA             2365            2365     2365          2365   \n",
       "SAN DIEGO CA             20486           20486    20486         20486   \n",
       "SEATTLE WA                7994            7994     7994          7994   \n",
       "SILICON VALLEY            8484            8484     8484          8484   \n",
       "TUCSON AZ                 1930            1930     1930          1930   \n",
       "WASHINGTON DC            43737           43737    43737         43737   \n",
       "\n",
       "                Price Charged  Cost of Trip  Customer ID  Payment_Mode  \\\n",
       "City                                                                     \n",
       "ATLANTA GA               7552          7552         7552          7552   \n",
       "AUSTIN TX                4891          4891         4891          4891   \n",
       "BOSTON MA               29692         29692        29692         29692   \n",
       "CHICAGO IL              56624         56624        56624         56624   \n",
       "DALLAS TX                6974          6974         6974          6974   \n",
       "DENVER CO                3823          3823         3823          3823   \n",
       "LOS ANGELES CA          48007         48007        48007         48007   \n",
       "MIAMI FL                 6443          6443         6443          6443   \n",
       "NASHVILLE TN             3009          3009         3009          3009   \n",
       "NEW YORK NY             96846         96846        96846         96846   \n",
       "ORANGE COUNTY            3970          3970         3970          3970   \n",
       "PHOENIX AZ               2064          2064         2064          2064   \n",
       "PITTSBURGH PA            1306          1306         1306          1306   \n",
       "SACRAMENTO CA            2365          2365         2365          2365   \n",
       "SAN DIEGO CA            20486         20486        20486         20486   \n",
       "SEATTLE WA               7994          7994         7994          7994   \n",
       "SILICON VALLEY           8484          8484         8484          8484   \n",
       "TUCSON AZ                1930          1930         1930          1930   \n",
       "WASHINGTON DC           43737         43737        43737         43737   \n",
       "\n",
       "                Gender    Age  Income (USD/Month)  \n",
       "City                                               \n",
       "ATLANTA GA        7552   7552                7552  \n",
       "AUSTIN TX         4891   4891                4891  \n",
       "BOSTON MA        29692  29692               29692  \n",
       "CHICAGO IL       56624  56624               56624  \n",
       "DALLAS TX         6974   6974                6974  \n",
       "DENVER CO         3823   3823                3823  \n",
       "LOS ANGELES CA   48007  48007               48007  \n",
       "MIAMI FL          6443   6443                6443  \n",
       "NASHVILLE TN      3009   3009                3009  \n",
       "NEW YORK NY      96846  96846               96846  \n",
       "ORANGE COUNTY     3970   3970                3970  \n",
       "PHOENIX AZ        2064   2064                2064  \n",
       "PITTSBURGH PA     1306   1306                1306  \n",
       "SACRAMENTO CA     2365   2365                2365  \n",
       "SAN DIEGO CA     20486  20486               20486  \n",
       "SEATTLE WA        7994   7994                7994  \n",
       "SILICON VALLEY    8484   8484                8484  \n",
       "TUCSON AZ         1930   1930                1930  \n",
       "WASHINGTON DC    43737  43737               43737  "
      ]
     },
     "execution_count": 232,
     "metadata": {},
     "output_type": "execute_result"
    }
   ],
   "source": [
    "Master_Data.groupby(['City']).count()"
   ]
  },
  {
   "cell_type": "code",
   "execution_count": 202,
   "id": "08621433",
   "metadata": {},
   "outputs": [
    {
     "ename": "AttributeError",
     "evalue": "module 'matplotlib.pyplot' has no attribute 'Legend'",
     "output_type": "error",
     "traceback": [
      "\u001b[1;31m---------------------------------------------------------------------------\u001b[0m",
      "\u001b[1;31mAttributeError\u001b[0m                            Traceback (most recent call last)",
      "\u001b[1;32m~\\AppData\\Local\\Temp/ipykernel_30248/3891432532.py\u001b[0m in \u001b[0;36m<module>\u001b[1;34m\u001b[0m\n\u001b[0;32m      2\u001b[0m \u001b[0mplt\u001b[0m\u001b[1;33m.\u001b[0m\u001b[0mxlabel\u001b[0m\u001b[1;33m(\u001b[0m\u001b[1;34m\"Company Name\"\u001b[0m\u001b[1;33m)\u001b[0m\u001b[1;33m\u001b[0m\u001b[1;33m\u001b[0m\u001b[0m\n\u001b[0;32m      3\u001b[0m \u001b[0mplt\u001b[0m\u001b[1;33m.\u001b[0m\u001b[0mylabel\u001b[0m\u001b[1;33m(\u001b[0m\u001b[1;34m\"Customers\"\u001b[0m\u001b[1;33m)\u001b[0m\u001b[1;33m\u001b[0m\u001b[1;33m\u001b[0m\u001b[0m\n\u001b[1;32m----> 4\u001b[1;33m \u001b[0mplt\u001b[0m\u001b[1;33m.\u001b[0m\u001b[0mLegend\u001b[0m\u001b[1;33m(\u001b[0m\u001b[1;33m)\u001b[0m\u001b[1;33m\u001b[0m\u001b[1;33m\u001b[0m\u001b[0m\n\u001b[0m",
      "\u001b[1;31mAttributeError\u001b[0m: module 'matplotlib.pyplot' has no attribute 'Legend'"
     ]
    },
    {
     "data": {
      "image/png": "[encoded data removed]",
      "text/plain": [
       "<Figure size 432x288 with 1 Axes>"
      ]
     },
     "metadata": {
      "needs_background": "light"
     },
     "output_type": "display_data"
    }
   ],
   "source": [
    "plt.bar(Master_Data['Company'], Master_Data['Customer ID'])\n",
    "plt.xlabel(\"Company Name\")\n",
    "plt.ylabel(\"Customers\")\n",
    "plt.Legend()"
   ]
  },
  {
   "cell_type": "code",
   "execution_count": 234,
   "id": "b8e43764",
   "metadata": {},
   "outputs": [],
   "source": [
    "Master_Data.to_csv(r'C:\\Users\\Vivek\\OneDrive\\Desktop\\Data Glacier\\Master.csv')"
   ]
  },
  {
   "cell_type": "code",
   "execution_count": 233,
   "id": "fc337e3a",
   "metadata": {},
   "outputs": [
    {
     "data": {
      "text/html": [
       "<div>\n",
       "<style scoped>\n",
       "    .dataframe tbody tr th:only-of-type {\n",
       "        vertical-align: middle;\n",
       "    }\n",
       "\n",
       "    .dataframe tbody tr th {\n",
       "        vertical-align: top;\n",
       "    }\n",
       "\n",
       "    .dataframe thead th {\n",
       "        text-align: right;\n",
       "    }\n",
       "</style>\n",
       "<table border=\"1\" class=\"dataframe\">\n",
       "  <thead>\n",
       "    <tr style=\"text-align: right;\">\n",
       "      <th></th>\n",
       "      <th>Transaction ID</th>\n",
       "      <th>Date of Travel</th>\n",
       "      <th>Company</th>\n",
       "      <th>City</th>\n",
       "      <th>KM Travelled</th>\n",
       "      <th>Price Charged</th>\n",
       "      <th>Cost of Trip</th>\n",
       "      <th>Customer ID</th>\n",
       "      <th>Payment_Mode</th>\n",
       "      <th>Gender</th>\n",
       "      <th>Age</th>\n",
       "      <th>Income (USD/Month)</th>\n",
       "    </tr>\n",
       "  </thead>\n",
       "  <tbody>\n",
       "    <tr>\n",
       "      <th>0</th>\n",
       "      <td>10000011</td>\n",
       "      <td>42377</td>\n",
       "      <td>Pink Cab</td>\n",
       "      <td>ATLANTA GA</td>\n",
       "      <td>30.45</td>\n",
       "      <td>370.95</td>\n",
       "      <td>313.6350</td>\n",
       "      <td>29290</td>\n",
       "      <td>Card</td>\n",
       "      <td>Male</td>\n",
       "      <td>28</td>\n",
       "      <td>10813</td>\n",
       "    </tr>\n",
       "    <tr>\n",
       "      <th>1</th>\n",
       "      <td>10000012</td>\n",
       "      <td>42375</td>\n",
       "      <td>Pink Cab</td>\n",
       "      <td>ATLANTA GA</td>\n",
       "      <td>28.62</td>\n",
       "      <td>358.52</td>\n",
       "      <td>334.8540</td>\n",
       "      <td>27703</td>\n",
       "      <td>Card</td>\n",
       "      <td>Male</td>\n",
       "      <td>27</td>\n",
       "      <td>9237</td>\n",
       "    </tr>\n",
       "    <tr>\n",
       "      <th>2</th>\n",
       "      <td>10000013</td>\n",
       "      <td>42371</td>\n",
       "      <td>Pink Cab</td>\n",
       "      <td>ATLANTA GA</td>\n",
       "      <td>9.04</td>\n",
       "      <td>125.20</td>\n",
       "      <td>97.6320</td>\n",
       "      <td>28712</td>\n",
       "      <td>Cash</td>\n",
       "      <td>Male</td>\n",
       "      <td>53</td>\n",
       "      <td>11242</td>\n",
       "    </tr>\n",
       "    <tr>\n",
       "      <th>3</th>\n",
       "      <td>10000014</td>\n",
       "      <td>42376</td>\n",
       "      <td>Pink Cab</td>\n",
       "      <td>ATLANTA GA</td>\n",
       "      <td>33.17</td>\n",
       "      <td>377.40</td>\n",
       "      <td>351.6020</td>\n",
       "      <td>28020</td>\n",
       "      <td>Cash</td>\n",
       "      <td>Male</td>\n",
       "      <td>23</td>\n",
       "      <td>23327</td>\n",
       "    </tr>\n",
       "    <tr>\n",
       "      <th>4</th>\n",
       "      <td>10000015</td>\n",
       "      <td>42372</td>\n",
       "      <td>Pink Cab</td>\n",
       "      <td>ATLANTA GA</td>\n",
       "      <td>8.73</td>\n",
       "      <td>114.62</td>\n",
       "      <td>97.7760</td>\n",
       "      <td>27182</td>\n",
       "      <td>Card</td>\n",
       "      <td>Male</td>\n",
       "      <td>33</td>\n",
       "      <td>8536</td>\n",
       "    </tr>\n",
       "    <tr>\n",
       "      <th>...</th>\n",
       "      <td>...</td>\n",
       "      <td>...</td>\n",
       "      <td>...</td>\n",
       "      <td>...</td>\n",
       "      <td>...</td>\n",
       "      <td>...</td>\n",
       "      <td>...</td>\n",
       "      <td>...</td>\n",
       "      <td>...</td>\n",
       "      <td>...</td>\n",
       "      <td>...</td>\n",
       "      <td>...</td>\n",
       "    </tr>\n",
       "    <tr>\n",
       "      <th>359387</th>\n",
       "      <td>10440101</td>\n",
       "      <td>43108</td>\n",
       "      <td>Yellow Cab</td>\n",
       "      <td>WASHINGTON DC</td>\n",
       "      <td>4.80</td>\n",
       "      <td>69.24</td>\n",
       "      <td>63.3600</td>\n",
       "      <td>52392</td>\n",
       "      <td>Cash</td>\n",
       "      <td>Male</td>\n",
       "      <td>24</td>\n",
       "      <td>15651</td>\n",
       "    </tr>\n",
       "    <tr>\n",
       "      <th>359388</th>\n",
       "      <td>10440104</td>\n",
       "      <td>43104</td>\n",
       "      <td>Yellow Cab</td>\n",
       "      <td>WASHINGTON DC</td>\n",
       "      <td>8.40</td>\n",
       "      <td>113.75</td>\n",
       "      <td>106.8480</td>\n",
       "      <td>53286</td>\n",
       "      <td>Cash</td>\n",
       "      <td>Male</td>\n",
       "      <td>32</td>\n",
       "      <td>6528</td>\n",
       "    </tr>\n",
       "    <tr>\n",
       "      <th>359389</th>\n",
       "      <td>10440105</td>\n",
       "      <td>43105</td>\n",
       "      <td>Yellow Cab</td>\n",
       "      <td>WASHINGTON DC</td>\n",
       "      <td>27.75</td>\n",
       "      <td>437.07</td>\n",
       "      <td>349.6500</td>\n",
       "      <td>52265</td>\n",
       "      <td>Cash</td>\n",
       "      <td>Male</td>\n",
       "      <td>56</td>\n",
       "      <td>7966</td>\n",
       "    </tr>\n",
       "    <tr>\n",
       "      <th>359390</th>\n",
       "      <td>10440106</td>\n",
       "      <td>43105</td>\n",
       "      <td>Yellow Cab</td>\n",
       "      <td>WASHINGTON DC</td>\n",
       "      <td>8.80</td>\n",
       "      <td>146.19</td>\n",
       "      <td>114.0480</td>\n",
       "      <td>52175</td>\n",
       "      <td>Card</td>\n",
       "      <td>Male</td>\n",
       "      <td>32</td>\n",
       "      <td>6423</td>\n",
       "    </tr>\n",
       "    <tr>\n",
       "      <th>359391</th>\n",
       "      <td>10440107</td>\n",
       "      <td>43102</td>\n",
       "      <td>Yellow Cab</td>\n",
       "      <td>WASHINGTON DC</td>\n",
       "      <td>12.76</td>\n",
       "      <td>191.58</td>\n",
       "      <td>177.6192</td>\n",
       "      <td>52917</td>\n",
       "      <td>Card</td>\n",
       "      <td>Male</td>\n",
       "      <td>20</td>\n",
       "      <td>11284</td>\n",
       "    </tr>\n",
       "  </tbody>\n",
       "</table>\n",
       "<p>356197 rows × 12 columns</p>\n",
       "</div>"
      ],
      "text/plain": [
       "        Transaction ID  Date of Travel     Company           City  \\\n",
       "0             10000011           42377    Pink Cab     ATLANTA GA   \n",
       "1             10000012           42375    Pink Cab     ATLANTA GA   \n",
       "2             10000013           42371    Pink Cab     ATLANTA GA   \n",
       "3             10000014           42376    Pink Cab     ATLANTA GA   \n",
       "4             10000015           42372    Pink Cab     ATLANTA GA   \n",
       "...                ...             ...         ...            ...   \n",
       "359387        10440101           43108  Yellow Cab  WASHINGTON DC   \n",
       "359388        10440104           43104  Yellow Cab  WASHINGTON DC   \n",
       "359389        10440105           43105  Yellow Cab  WASHINGTON DC   \n",
       "359390        10440106           43105  Yellow Cab  WASHINGTON DC   \n",
       "359391        10440107           43102  Yellow Cab  WASHINGTON DC   \n",
       "\n",
       "        KM Travelled  Price Charged  Cost of Trip  Customer ID Payment_Mode  \\\n",
       "0              30.45         370.95      313.6350        29290         Card   \n",
       "1              28.62         358.52      334.8540        27703         Card   \n",
       "2               9.04         125.20       97.6320        28712         Cash   \n",
       "3              33.17         377.40      351.6020        28020         Cash   \n",
       "4               8.73         114.62       97.7760        27182         Card   \n",
       "...              ...            ...           ...          ...          ...   \n",
       "359387          4.80          69.24       63.3600        52392         Cash   \n",
       "359388          8.40         113.75      106.8480        53286         Cash   \n",
       "359389         27.75         437.07      349.6500        52265         Cash   \n",
       "359390          8.80         146.19      114.0480        52175         Card   \n",
       "359391         12.76         191.58      177.6192        52917         Card   \n",
       "\n",
       "       Gender  Age  Income (USD/Month)  \n",
       "0        Male   28               10813  \n",
       "1        Male   27                9237  \n",
       "2        Male   53               11242  \n",
       "3        Male   23               23327  \n",
       "4        Male   33                8536  \n",
       "...       ...  ...                 ...  \n",
       "359387   Male   24               15651  \n",
       "359388   Male   32                6528  \n",
       "359389   Male   56                7966  \n",
       "359390   Male   32                6423  \n",
       "359391   Male   20               11284  \n",
       "\n",
       "[356197 rows x 12 columns]"
      ]
     },
     "execution_count": 233,
     "metadata": {},
     "output_type": "execute_result"
    }
   ],
   "source": [
    "Master_Data"
   ]
  },
  {
   "cell_type": "markdown",
   "id": "39deca2d",
   "metadata": {},
   "source": [
    "Hypothesis:\n",
    "1) Which Cab company have higher number of customers? \\\n",
    "2) Which City have the highest and lowest customers with respect to each company? \\\n",
    "3) Which Cab company have highest profit?\\\n",
    "4) Which company customers are prefering with age group of 40-60?\\\n",
    "5) Average Customer monthly income of both the cab companies?"
   ]
  },
  {
   "cell_type": "markdown",
   "id": "d9c76e77",
   "metadata": {},
   "source": [
    "All the below graphics are visualized in Tableau."
   ]
  },
  {
   "cell_type": "markdown",
   "id": "cc9e1308",
   "metadata": {},
   "source": [
    "<img src='HYP1.png'>"
   ]
  },
  {
   "cell_type": "markdown",
   "id": "e60aee12",
   "metadata": {},
   "source": [
    "<img src='HYP2.png'>"
   ]
  },
  {
   "cell_type": "markdown",
   "id": "e74c5629",
   "metadata": {},
   "source": [
    "New York has the highest number of customers and Pittsburgh has lowest number of customers for yellow cabs.\\\n",
    "Compared to all cities Pink cabs have higher customers in Los Angeles and lowest in Pittsburgh."
   ]
  },
  {
   "cell_type": "markdown",
   "id": "c3bc60e7",
   "metadata": {},
   "source": [
    "<img src='HYP3.png'>"
   ]
  },
  {
   "cell_type": "markdown",
   "id": "7e992f60",
   "metadata": {},
   "source": [
    "<img src='HYP4.png'>"
   ]
  },
  {
   "cell_type": "markdown",
   "id": "25649a6f",
   "metadata": {},
   "source": [
    "<img src='HYP5.png'>"
   ]
  },
  {
   "cell_type": "code",
   "execution_count": null,
   "id": "f82e9f9a",
   "metadata": {},
   "outputs": [],
   "source": []
  }
 ],
 "metadata": {
  "kernelspec": {
   "display_name": "Python 3 (ipykernel)",
   "language": "python",
   "name": "python3"
  },
  "language_info": {
   "codemirror_mode": {
    "name": "ipython",
    "version": 3
   },
   "file_extension": ".py",
   "mimetype": "text/x-python",
   "name": "python",
   "nbconvert_exporter": "python",
   "pygments_lexer": "ipython3",
   "version": "3.9.7"
  }
 },
 "nbformat": 4,
 "nbformat_minor": 5
}
